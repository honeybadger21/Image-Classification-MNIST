{
 "cells": [
  {
   "cell_type": "markdown",
   "metadata": {},
   "source": [
    "## Deploying Image Classification Model \n",
    "\n",
    "The goal of this assignment is to create a neural network that has greater than 99% accuracy on the MNIST dataset. We can use multiple convolutional layers, different filter sizes, different number of filters, multiple max pool layers, several dense layers, regularizers, dropout layers, different batch sizes or number of epochs; whatever gets us greater than 99% accuracy on the validation set. \n",
    "\n",
    "Training and Model Saving was accomplished using Google Collab. Webpage creation and model deployment was done through Anvil. \n",
    "\n",
    ">Link to the webpage: https://msbaoptim38.anvil.app/ \n",
    "\n",
    "<b>Reference:</b>\n",
    "1. https://github.com/guptajay/Kaggle-Digit-Recognizer/blob/master/Digit_Recognizer_MNIST.ipynb \n",
    "2. https://towardsdatascience.com/going-beyond-99-mnist-handwritten-digits-recognition-cfff96337392\n",
    "\n",
    "<b>About the Dataset:</b> The <b><i>MNIST Handwritten Digits Dataset</i></b> is considered as the “Hello World” of Computer Vision. Most standard implementations of neural networks achieve an accuracy of ~(98–99) percent in correctly classifying the handwritten digits. The MNIST dataset consists of 60,000 training examples and 10,000 examples in the test set. "
   ]
  },
  {
   "cell_type": "markdown",
   "metadata": {
    "id": "h3EhJfxjyKpI"
   },
   "source": [
    "<b>Importing neccessary libraries:</b>"
   ]
  },
  {
   "cell_type": "code",
   "execution_count": null,
   "metadata": {
    "id": "xDsLcB8Zw4We"
   },
   "outputs": [],
   "source": [
    "import tensorflow as tf\n",
    "import numpy as np\n",
    "\n",
    "from tensorflow.keras.layers import Input, Conv2D, MaxPooling2D, Dense, Flatten, Dropout, Activation, BatchNormalization\n",
    "from tensorflow.keras.models import Model, Sequential\n",
    "from tensorflow.keras.utils import to_categorical\n",
    "from tensorflow.keras.preprocessing.image import ImageDataGenerator\n",
    "from tensorflow.keras.regularizers import l2\n",
    "from tensorflow.keras.callbacks import ReduceLROnPlateau\n",
    "\n",
    "from sklearn.model_selection import train_test_split\n",
    "import matplotlib.pyplot as plt\n",
    "import pandas as pd\n",
    "import math"
   ]
  },
  {
   "cell_type": "markdown",
   "metadata": {},
   "source": [
    "<b>Defining the Model Architechture:</b>\n",
    "\n",
    "<b>Details of the Model Used:</b> Instead of building a model from scratch, <b><i>LeNet-5 (LeCun et al., 1998. Gradient based learning applied to document recognition) convolutional neural network</i></b> was taken as the baseline standard model. It’s a simple model consisting of a convolutional layer with a max-pooling layer twice followed by two fully connected layers with a softmax output of ten classes at the end. After training for 30 epochs, the training accuracy was 99.98% & dev set accuracy was 99.05%. For a model released in 1998, the accuracy seems pretty good.\n",
    "\n",
    "However, the model suffers from both high variance and high bias problems with a test set accuracy lower than 98.74%. Let us tackle both the problems one by one. We tackle these issues as follows:\n",
    "For <b><i>Reducing Variance:</i></b> Data Augmentation, L2 Regularization, DropOut Regularization, Batch Normalization, Variable Learning Rate. For <b><i>Handling Bias: </b></i>More Layers, Deeper Network."
   ]
  },
  {
   "cell_type": "code",
   "execution_count": null,
   "metadata": {
    "id": "u9FAhfKAw4UG"
   },
   "outputs": [],
   "source": [
    "def LeNet5v2(input_shape = (32, 32, 1), classes = 10):\n",
    "    \"\"\"\n",
    "    Implementation of a modified LeNet-5.\n",
    "    Only those layers with learnable parameters are counted in the layer numbering.\n",
    "    \n",
    "    Arguments:\n",
    "    input_shape -- shape of the images of the dataset\n",
    "    classes -- integer, number of classes\n",
    "\n",
    "    Returns:\n",
    "    model -- a Model() instance in Keras\n",
    "    \"\"\"\n",
    "    \n",
    "    model = Sequential([\n",
    "        \n",
    "    # Layer 1\n",
    "    Conv2D(filters = 32, kernel_size = 5, strides = 1, activation = 'relu', input_shape = (32,32,1), kernel_regularizer=l2(0.0005), name = 'convolution_1'),\n",
    "    \n",
    "    # Layer 2\n",
    "    Conv2D(filters = 32, kernel_size = 5, strides = 1, name = 'convolution_2', use_bias=False),\n",
    "    \n",
    "    # Layer 3    \n",
    "    BatchNormalization(name = 'batchnorm_1'),\n",
    "        \n",
    "    # -------------------------------- #  \n",
    "    Activation(\"relu\"),\n",
    "    MaxPooling2D(pool_size = 2, strides = 2, name = 'max_pool_1'),\n",
    "    Dropout(0.25, name = 'dropout_1'),\n",
    "    # -------------------------------- #  \n",
    "        \n",
    "    # Layer 3\n",
    "    Conv2D(filters = 64, kernel_size = 3, strides = 1, activation = 'relu', kernel_regularizer=l2(0.0005), name = 'convolution_3'),\n",
    "        \n",
    "    # Layer 4\n",
    "    Conv2D(filters = 64, kernel_size = 3, strides = 1, name = 'convolution_4', use_bias=False),\n",
    "        \n",
    "    # Layer 5\n",
    "    BatchNormalization(name = 'batchnorm_2'),\n",
    "        \n",
    "    # -------------------------------- #  \n",
    "    Activation(\"relu\"),\n",
    "    MaxPooling2D(pool_size = 2, strides = 2, name = 'max_pool_2'),\n",
    "    Dropout(0.25, name = 'dropout_2'),\n",
    "    Flatten(name = 'flatten'),\n",
    "    # -------------------------------- #  \n",
    "        \n",
    "    # Layer 6\n",
    "    Dense(units = 256, name = 'fully_connected_1', use_bias=False),\n",
    "        \n",
    "    # Layer 7\n",
    "    BatchNormalization(name = 'batchnorm_3'),\n",
    "    \n",
    "    # -------------------------------- #  \n",
    "    Activation(\"relu\"),\n",
    "    # -------------------------------- #  \n",
    "        \n",
    "    # Layer 8\n",
    "    Dense(units = 128, name = 'fully_connected_2', use_bias=False),\n",
    "        \n",
    "    # Layer 9\n",
    "    BatchNormalization(name = 'batchnorm_4'),\n",
    "        \n",
    "    # -------------------------------- #  \n",
    "    Activation(\"relu\"),\n",
    "    # -------------------------------- #  \n",
    "        \n",
    "    # Layer 10\n",
    "    Dense(units = 84, name = 'fully_connected_3', use_bias=False),\n",
    "        \n",
    "    # Layer 11\n",
    "    BatchNormalization(name = 'batchnorm_5'),\n",
    "        \n",
    "    # -------------------------------- #  \n",
    "    Activation(\"relu\"),\n",
    "    Dropout(0.25, name = 'dropout_3'),\n",
    "    # -------------------------------- #  \n",
    "\n",
    "    # Output\n",
    "    Dense(units = 10, activation = 'softmax', name = 'output')\n",
    "        \n",
    "    ])\n",
    "    \n",
    "    model._name = 'LeNet5v2'\n",
    "\n",
    "    return model"
   ]
  },
  {
   "cell_type": "code",
   "execution_count": null,
   "metadata": {
    "id": "5lJ0PkbIw4Rv"
   },
   "outputs": [],
   "source": [
    "LeNet5Model = LeNet5v2(input_shape = (32, 32, 1), classes = 10)"
   ]
  },
  {
   "cell_type": "code",
   "execution_count": null,
   "metadata": {
    "id": "varCAvV8w4PC"
   },
   "outputs": [],
   "source": [
    "LeNet5Model.compile(optimizer='adam', loss='categorical_crossentropy', metrics=['accuracy'])"
   ]
  },
  {
   "cell_type": "code",
   "execution_count": null,
   "metadata": {
    "colab": {
     "base_uri": "https://localhost:8080/"
    },
    "id": "nelIXIIJw4Mv",
    "outputId": "d8892576-0945-4eda-9c3d-df4f1e8d4f4c"
   },
   "outputs": [
    {
     "name": "stdout",
     "output_type": "stream",
     "text": [
      "Model: \"LeNet5v2\"\n",
      "_________________________________________________________________\n",
      " Layer (type)                Output Shape              Param #   \n",
      "=================================================================\n",
      " convolution_1 (Conv2D)      (None, 28, 28, 32)        832       \n",
      "                                                                 \n",
      " convolution_2 (Conv2D)      (None, 24, 24, 32)        25600     \n",
      "                                                                 \n",
      " batchnorm_1 (BatchNormaliza  (None, 24, 24, 32)       128       \n",
      " tion)                                                           \n",
      "                                                                 \n",
      " activation (Activation)     (None, 24, 24, 32)        0         \n",
      "                                                                 \n",
      " max_pool_1 (MaxPooling2D)   (None, 12, 12, 32)        0         \n",
      "                                                                 \n",
      " dropout_1 (Dropout)         (None, 12, 12, 32)        0         \n",
      "                                                                 \n",
      " convolution_3 (Conv2D)      (None, 10, 10, 64)        18496     \n",
      "                                                                 \n",
      " convolution_4 (Conv2D)      (None, 8, 8, 64)          36864     \n",
      "                                                                 \n",
      " batchnorm_2 (BatchNormaliza  (None, 8, 8, 64)         256       \n",
      " tion)                                                           \n",
      "                                                                 \n",
      " activation_1 (Activation)   (None, 8, 8, 64)          0         \n",
      "                                                                 \n",
      " max_pool_2 (MaxPooling2D)   (None, 4, 4, 64)          0         \n",
      "                                                                 \n",
      " dropout_2 (Dropout)         (None, 4, 4, 64)          0         \n",
      "                                                                 \n",
      " flatten (Flatten)           (None, 1024)              0         \n",
      "                                                                 \n",
      " fully_connected_1 (Dense)   (None, 256)               262144    \n",
      "                                                                 \n",
      " batchnorm_3 (BatchNormaliza  (None, 256)              1024      \n",
      " tion)                                                           \n",
      "                                                                 \n",
      " activation_2 (Activation)   (None, 256)               0         \n",
      "                                                                 \n",
      " fully_connected_2 (Dense)   (None, 128)               32768     \n",
      "                                                                 \n",
      " batchnorm_4 (BatchNormaliza  (None, 128)              512       \n",
      " tion)                                                           \n",
      "                                                                 \n",
      " activation_3 (Activation)   (None, 128)               0         \n",
      "                                                                 \n",
      " fully_connected_3 (Dense)   (None, 84)                10752     \n",
      "                                                                 \n",
      " batchnorm_5 (BatchNormaliza  (None, 84)               336       \n",
      " tion)                                                           \n",
      "                                                                 \n",
      " activation_4 (Activation)   (None, 84)                0         \n",
      "                                                                 \n",
      " dropout_3 (Dropout)         (None, 84)                0         \n",
      "                                                                 \n",
      " output (Dense)              (None, 10)                850       \n",
      "                                                                 \n",
      "=================================================================\n",
      "Total params: 390,562\n",
      "Trainable params: 389,434\n",
      "Non-trainable params: 1,128\n",
      "_________________________________________________________________\n"
     ]
    }
   ],
   "source": [
    "LeNet5Model.summary()"
   ]
  },
  {
   "cell_type": "markdown",
   "metadata": {
    "id": "2A5suShAFq81"
   },
   "source": [
    ">We have about 40k parameters to train. \n",
    "\n",
    "To summarise, we are using two convolutional layers, followed by a pooling layer twice (once with 32 filters and 64 filters respectively) and three fully connected layers with a softmax unit in the end with 10 classes. Batch Normalization, L2 Regularization and Dropouts are done in-between the layers. \n",
    "\n",
    "<b>Loading the Dataset:</b>"
   ]
  },
  {
   "cell_type": "code",
   "execution_count": null,
   "metadata": {
    "colab": {
     "base_uri": "https://localhost:8080/",
     "height": 356
    },
    "id": "_1-51y1Xw4KH",
    "outputId": "e9c5172a-35ad-40fa-f37c-6f83fee7eec8"
   },
   "outputs": [
    {
     "name": "stdout",
     "output_type": "stream",
     "text": [
      "Downloading data from https://storage.googleapis.com/tensorflow/tf-keras-datasets/mnist.npz\n",
      "11490434/11490434 [==============================] - 0s 0us/step\n",
      "Size of Dataset:  60000\n",
      "Size of Cross Validation Set:  3000\n"
     ]
    },
    {
     "data": {
      "text/plain": [
       "<matplotlib.image.AxesImage at 0x7f5fa23ebd60>"
      ]
     },
     "execution_count": 6,
     "metadata": {},
     "output_type": "execute_result"
    },
    {
     "data": {
      "image/png": "[encoded data removed]",
      "text/plain": [
       "<Figure size 432x288 with 1 Axes>"
      ]
     },
     "metadata": {
      "needs_background": "light"
     },
     "output_type": "display_data"
    }
   ],
   "source": [
    "mnist = tf.keras.datasets.mnist\n",
    "\n",
    "(x_train, y_train),(x_test, y_test) = mnist.load_data()\n",
    "\n",
    "Y = y_train\n",
    "X = x_train\n",
    "\n",
    "test = x_test\n",
    "\n",
    "X = X.reshape(-1,28,28,1)\n",
    "test = test.reshape(-1,28,28,1)\n",
    "print(\"Size of Dataset: \" , len(X))\n",
    "\n",
    "cross_validation_size = int(len(X)*0.05)\n",
    "print(\"Size of Cross Validation Set: \" , cross_validation_size)\n",
    "\n",
    "random_seed = 2\n",
    "X_train, X_val, Y_train, Y_val = train_test_split(X, Y, test_size = cross_validation_size, random_state=random_seed)\n",
    "\n",
    "X_test = test\n",
    "plt.imshow(X_train[0][:,:,0])"
   ]
  },
  {
   "cell_type": "markdown",
   "metadata": {},
   "source": [
    "<b>Image Pre-Processing Steps:</b>"
   ]
  },
  {
   "cell_type": "code",
   "execution_count": null,
   "metadata": {
    "id": "bsUO355Uw4H4"
   },
   "outputs": [],
   "source": [
    "X_train = np.array(X_train)\n",
    "X_val = np.array(X_val)\n",
    "X_test = np.array(X_test)\n",
    "\n",
    "# Padding the images by 2 pixels since in the paper input images were 32x32\n",
    "\n",
    "X_train = np.pad(X_train, ((0,0),(2,2),(2,2),(0,0)), 'constant')\n",
    "X_val = np.pad(X_val, ((0,0),(2,2),(2,2),(0,0)), 'constant')\n",
    "X_test = np.pad(X_test, ((0,0),(2,2),(2,2),(0,0)), 'constant')\n",
    "\n",
    "# Standardization\n",
    "\n",
    "mean_px = X_train.mean().astype(np.float32)\n",
    "std_px = X_train.std().astype(np.float32)\n",
    "X_train = (X_train - mean_px)/(std_px)\n",
    "\n",
    "mean_px = X_val.mean().astype(np.float32)\n",
    "std_px = X_val.std().astype(np.float32)\n",
    "X_val = (X_val - mean_px)/(std_px)\n",
    "\n",
    "mean_px = X_test.mean().astype(np.float32)\n",
    "std_px = X_test.std().astype(np.float32)\n",
    "X_test = (X_test - mean_px)/(std_px)\n",
    "\n",
    "# One-hot encoding the labels\n",
    "\n",
    "Y_train = to_categorical(Y_train, num_classes = 10)\n",
    "Y_val = to_categorical(Y_val, num_classes = 10)"
   ]
  },
  {
   "cell_type": "code",
   "execution_count": null,
   "metadata": {
    "id": "GQ5wm8Dpxywo"
   },
   "outputs": [],
   "source": [
    "# By using the image generator, we are not generating new data. We are only replacing the exisiting images. \n",
    "\n",
    "datagen = ImageDataGenerator(\n",
    "        featurewise_center = False,  # set input mean to 0 over the dataset\n",
    "        samplewise_center = False,  # set each sample mean to 0\n",
    "        featurewise_std_normalization = False,  # divide inputs by std of the dataset\n",
    "        samplewise_std_normalization = False,  # divide each input by its std\n",
    "        zca_whitening = False,  # apply ZCA whitening\n",
    "        rotation_range = 10,  # randomly rotate images in the range (degrees, 0 to 180)\n",
    "        zoom_range = 0.1, # Randomly zoom image \n",
    "        width_shift_range = 0.1,  # randomly shift images horizontally (fraction of total width)\n",
    "        height_shift_range = 0.1,  # randomly shift images vertically (fraction of total height)\n",
    "        horizontal_flip = False,  # randomly flip images\n",
    "        vertical_flip = False)  # randomly flip images\n",
    "\n",
    "datagen.fit(X_train)"
   ]
  },
  {
   "cell_type": "code",
   "execution_count": null,
   "metadata": {
    "id": "OXDViDbjxyzB"
   },
   "outputs": [],
   "source": [
    "variable_learning_rate = ReduceLROnPlateau(monitor='val_loss', factor = 0.2, patience = 2)"
   ]
  },
  {
   "cell_type": "code",
   "execution_count": null,
   "metadata": {
    "id": "2ygipgNjxy1f"
   },
   "outputs": [],
   "source": [
    "#history = LeNet5Model.fit(X_train, Y_train, epochs = 30, batch_size = 64, callbacks = [variable_learning_rate], validation_data = (X_val,Y_val))"
   ]
  },
  {
   "cell_type": "markdown",
   "metadata": {},
   "source": [
    "<b>Training the Model:</b>"
   ]
  },
  {
   "cell_type": "code",
   "execution_count": null,
   "metadata": {
    "colab": {
     "base_uri": "https://localhost:8080/"
    },
    "id": "KwuhCesdF3zc",
    "outputId": "08638472-99ca-43f8-fb56-5fcc86d0577a"
   },
   "outputs": [
    {
     "name": "stdout",
     "output_type": "stream",
     "text": [
      "Epoch 1/30\n",
      "891/891 [==============================] - 17s 9ms/step - loss: 0.2171 - accuracy: 0.9436 - val_loss: 0.0740 - val_accuracy: 0.9823 - lr: 0.0010\n",
      "Epoch 2/30\n",
      "891/891 [==============================] - 8s 8ms/step - loss: 0.0859 - accuracy: 0.9799 - val_loss: 0.0519 - val_accuracy: 0.9893 - lr: 0.0010\n",
      "Epoch 3/30\n",
      "891/891 [==============================] - 7s 8ms/step - loss: 0.0659 - accuracy: 0.9847 - val_loss: 0.0424 - val_accuracy: 0.9890 - lr: 0.0010\n",
      "Epoch 4/30\n",
      "891/891 [==============================] - 7s 8ms/step - loss: 0.0572 - accuracy: 0.9865 - val_loss: 0.0451 - val_accuracy: 0.9913 - lr: 0.0010\n",
      "Epoch 5/30\n",
      "891/891 [==============================] - 7s 8ms/step - loss: 0.0516 - accuracy: 0.9871 - val_loss: 0.0639 - val_accuracy: 0.9820 - lr: 0.0010\n",
      "Epoch 6/30\n",
      "891/891 [==============================] - 7s 8ms/step - loss: 0.0330 - accuracy: 0.9925 - val_loss: 0.0304 - val_accuracy: 0.9947 - lr: 2.0000e-04\n",
      "Epoch 7/30\n",
      "891/891 [==============================] - 7s 8ms/step - loss: 0.0285 - accuracy: 0.9937 - val_loss: 0.0271 - val_accuracy: 0.9950 - lr: 2.0000e-04\n",
      "Epoch 8/30\n",
      "891/891 [==============================] - 7s 8ms/step - loss: 0.0246 - accuracy: 0.9948 - val_loss: 0.0285 - val_accuracy: 0.9953 - lr: 2.0000e-04\n",
      "Epoch 9/30\n",
      "891/891 [==============================] - 7s 8ms/step - loss: 0.0241 - accuracy: 0.9946 - val_loss: 0.0260 - val_accuracy: 0.9957 - lr: 2.0000e-04\n",
      "Epoch 10/30\n",
      "891/891 [==============================] - 8s 9ms/step - loss: 0.0220 - accuracy: 0.9950 - val_loss: 0.0262 - val_accuracy: 0.9950 - lr: 2.0000e-04\n",
      "Epoch 11/30\n",
      "891/891 [==============================] - 7s 8ms/step - loss: 0.0199 - accuracy: 0.9954 - val_loss: 0.0268 - val_accuracy: 0.9950 - lr: 2.0000e-04\n",
      "Epoch 12/30\n",
      "891/891 [==============================] - 8s 8ms/step - loss: 0.0185 - accuracy: 0.9960 - val_loss: 0.0244 - val_accuracy: 0.9953 - lr: 4.0000e-05\n",
      "Epoch 13/30\n",
      "891/891 [==============================] - 7s 8ms/step - loss: 0.0168 - accuracy: 0.9964 - val_loss: 0.0246 - val_accuracy: 0.9953 - lr: 4.0000e-05\n",
      "Epoch 14/30\n",
      "891/891 [==============================] - 7s 8ms/step - loss: 0.0145 - accuracy: 0.9971 - val_loss: 0.0242 - val_accuracy: 0.9960 - lr: 4.0000e-05\n",
      "Epoch 15/30\n",
      "891/891 [==============================] - 7s 8ms/step - loss: 0.0149 - accuracy: 0.9970 - val_loss: 0.0233 - val_accuracy: 0.9967 - lr: 4.0000e-05\n",
      "Epoch 16/30\n",
      "891/891 [==============================] - 8s 8ms/step - loss: 0.0151 - accuracy: 0.9970 - val_loss: 0.0244 - val_accuracy: 0.9950 - lr: 4.0000e-05\n",
      "Epoch 17/30\n",
      "891/891 [==============================] - 7s 8ms/step - loss: 0.0146 - accuracy: 0.9969 - val_loss: 0.0248 - val_accuracy: 0.9957 - lr: 4.0000e-05\n",
      "Epoch 18/30\n",
      "891/891 [==============================] - 7s 8ms/step - loss: 0.0128 - accuracy: 0.9976 - val_loss: 0.0244 - val_accuracy: 0.9960 - lr: 8.0000e-06\n",
      "Epoch 19/30\n",
      "891/891 [==============================] - 7s 8ms/step - loss: 0.0131 - accuracy: 0.9974 - val_loss: 0.0243 - val_accuracy: 0.9960 - lr: 8.0000e-06\n",
      "Epoch 20/30\n",
      "891/891 [==============================] - 7s 8ms/step - loss: 0.0130 - accuracy: 0.9976 - val_loss: 0.0239 - val_accuracy: 0.9960 - lr: 1.6000e-06\n",
      "Epoch 21/30\n",
      "891/891 [==============================] - 7s 8ms/step - loss: 0.0132 - accuracy: 0.9974 - val_loss: 0.0239 - val_accuracy: 0.9960 - lr: 1.6000e-06\n",
      "Epoch 22/30\n",
      "891/891 [==============================] - 7s 8ms/step - loss: 0.0131 - accuracy: 0.9974 - val_loss: 0.0241 - val_accuracy: 0.9960 - lr: 3.2000e-07\n",
      "Epoch 23/30\n",
      "891/891 [==============================] - 8s 9ms/step - loss: 0.0130 - accuracy: 0.9975 - val_loss: 0.0243 - val_accuracy: 0.9960 - lr: 3.2000e-07\n",
      "Epoch 24/30\n",
      "891/891 [==============================] - 7s 8ms/step - loss: 0.0129 - accuracy: 0.9972 - val_loss: 0.0239 - val_accuracy: 0.9957 - lr: 6.4000e-08\n",
      "Epoch 25/30\n",
      "891/891 [==============================] - 7s 8ms/step - loss: 0.0136 - accuracy: 0.9973 - val_loss: 0.0241 - val_accuracy: 0.9957 - lr: 6.4000e-08\n",
      "Epoch 26/30\n",
      "891/891 [==============================] - 8s 9ms/step - loss: 0.0135 - accuracy: 0.9972 - val_loss: 0.0241 - val_accuracy: 0.9957 - lr: 1.2800e-08\n",
      "Epoch 27/30\n",
      "891/891 [==============================] - 7s 8ms/step - loss: 0.0128 - accuracy: 0.9974 - val_loss: 0.0241 - val_accuracy: 0.9957 - lr: 1.2800e-08\n",
      "Epoch 28/30\n",
      "891/891 [==============================] - 7s 8ms/step - loss: 0.0138 - accuracy: 0.9974 - val_loss: 0.0241 - val_accuracy: 0.9957 - lr: 2.5600e-09\n",
      "Epoch 29/30\n",
      "891/891 [==============================] - 7s 8ms/step - loss: 0.0128 - accuracy: 0.9976 - val_loss: 0.0241 - val_accuracy: 0.9957 - lr: 2.5600e-09\n",
      "Epoch 30/30\n",
      "891/891 [==============================] - 7s 8ms/step - loss: 0.0131 - accuracy: 0.9975 - val_loss: 0.0238 - val_accuracy: 0.9957 - lr: 5.1200e-10\n"
     ]
    },
    {
     "data": {
      "text/plain": [
       "<keras.callbacks.History at 0x7f5fa23c0550>"
      ]
     },
     "execution_count": 10,
     "metadata": {},
     "output_type": "execute_result"
    }
   ],
   "source": [
    "LeNet5Model.fit(X_train, Y_train, epochs = 30, batch_size = 64, callbacks = [variable_learning_rate], validation_data = (X_val,Y_val))"
   ]
  },
  {
   "cell_type": "code",
   "execution_count": null,
   "metadata": {
    "colab": {
     "base_uri": "https://localhost:8080/",
     "height": 565
    },
    "id": "nvYWevEJxy31",
    "outputId": "c72a853a-8ac9-444f-c7b2-9def829675f7"
   },
   "outputs": [
    {
     "data": {
      "text/plain": [
       "<Figure size 432x288 with 0 Axes>"
      ]
     },
     "execution_count": 14,
     "metadata": {},
     "output_type": "execute_result"
    },
    {
     "data": {
      "image/png": "[encoded data removed]",
      "text/plain": [
       "<Figure size 432x288 with 1 Axes>"
      ]
     },
     "metadata": {
      "needs_background": "light"
     },
     "output_type": "display_data"
    },
    {
     "data": {
      "image/png": "[encoded data removed]",
      "text/plain": [
       "<Figure size 432x288 with 1 Axes>"
      ]
     },
     "metadata": {
      "needs_background": "light"
     },
     "output_type": "display_data"
    },
    {
     "data": {
      "text/plain": [
       "<Figure size 432x288 with 0 Axes>"
      ]
     },
     "metadata": {},
     "output_type": "display_data"
    }
   ],
   "source": [
    "%matplotlib inline\n",
    "\n",
    "import matplotlib.image  as mpimg\n",
    "import matplotlib.pyplot as plt\n",
    "\n",
    "#-----------------------------------------------------------\n",
    "# Retrieve a list of list results on training and test data\n",
    "# sets for each training epoch\n",
    "#-----------------------------------------------------------\n",
    "acc=history.history['accuracy']\n",
    "val_acc=history.history['val_accuracy']\n",
    "loss=history.history['loss']\n",
    "val_loss=history.history['val_loss']\n",
    "\n",
    "epochs=range(len(acc)) # Get number of epochs\n",
    "\n",
    "#------------------------------------------------\n",
    "# Plot training and validation accuracy per epoch\n",
    "#------------------------------------------------\n",
    "plt.plot(epochs, acc, 'r', \"Training Accuracy\")\n",
    "plt.plot(epochs, val_acc, 'b', \"Validation Accuracy\")\n",
    "plt.title('Training and validation accuracy')\n",
    "plt.figure()\n",
    "\n",
    "#------------------------------------------------\n",
    "# Plot training and validation loss per epoch\n",
    "#------------------------------------------------\n",
    "plt.plot(epochs, loss, 'r', \"Training Loss\")\n",
    "plt.plot(epochs, val_loss, 'b', \"Validation Loss\")\n",
    "plt.figure()"
   ]
  },
  {
   "cell_type": "markdown",
   "metadata": {},
   "source": [
    "<b>Saving the trained model to Google Drive:</b> \\\n",
    "We don't want our model to run on anvil. Our code on Google Collab serves as the backend and we wish that the training and prediction of the model occurs here itself. The anvil webpage is just meant to serve as a tool to use the model at the backend in a user-friendly fashion. "
   ]
  },
  {
   "cell_type": "code",
   "execution_count": null,
   "metadata": {
    "colab": {
     "base_uri": "https://localhost:8080/"
    },
    "id": "WqSQakhziDNE",
    "outputId": "15cce006-468b-46c6-afb7-09f597d8446e"
   },
   "outputs": [
    {
     "name": "stdout",
     "output_type": "stream",
     "text": [
      "Mounted at /content/gdrive\n"
     ]
    }
   ],
   "source": [
    "from google.colab import drive\n",
    "drive.mount('/content/gdrive')"
   ]
  },
  {
   "cell_type": "code",
   "execution_count": null,
   "metadata": {
    "colab": {
     "base_uri": "https://localhost:8080/"
    },
    "id": "UbQPzGn_iDPv",
    "outputId": "42203dae-afef-4bd6-9fb8-0533b0935ef4"
   },
   "outputs": [
    {
     "name": "stderr",
     "output_type": "stream",
     "text": [
      "WARNING:absl:Found untraced functions such as _jit_compiled_convolution_op, _jit_compiled_convolution_op, _jit_compiled_convolution_op, _jit_compiled_convolution_op while saving (showing 4 of 4). These functions will not be directly callable after loading.\n"
     ]
    }
   ],
   "source": [
    "LeNet5Model.save('model01')"
   ]
  },
  {
   "cell_type": "markdown",
   "metadata": {},
   "source": [
    "<b>Loading the Saved Model & just testing it around:</b>"
   ]
  },
  {
   "cell_type": "code",
   "execution_count": null,
   "metadata": {
    "id": "3BLK9G2Q4k7f"
   },
   "outputs": [],
   "source": [
    "model = tf.keras.models.load_model('/content/model01')"
   ]
  },
  {
   "cell_type": "code",
   "execution_count": null,
   "metadata": {
    "colab": {
     "base_uri": "https://localhost:8080/"
    },
    "id": "Sv6QCqij0JMO",
    "outputId": "3ad9728f-2f94-457d-a275-4bc539978243"
   },
   "outputs": [
    {
     "name": "stdout",
     "output_type": "stream",
     "text": [
      "313/313 [==============================] - 1s 3ms/step\n"
     ]
    },
    {
     "data": {
      "text/plain": [
       "array([[6.4723054e-08, 8.8056220e-07, 5.5330293e-07, ..., 9.9999416e-01,\n",
       "        2.9794004e-08, 2.8615477e-06],\n",
       "       [9.4641806e-08, 5.9463318e-06, 9.9998832e-01, ..., 5.6362472e-07,\n",
       "        4.2333238e-07, 3.7168260e-07],\n",
       "       [1.3393417e-07, 9.9999404e-01, 1.2596232e-06, ..., 2.3351106e-06,\n",
       "        3.3310326e-07, 2.4445984e-07],\n",
       "       ...,\n",
       "       [3.4806529e-08, 1.7250204e-07, 1.8377462e-09, ..., 9.1992405e-08,\n",
       "        7.7744198e-07, 1.4016234e-06],\n",
       "       [6.9633309e-08, 2.6005976e-08, 1.4608998e-08, ..., 7.5380648e-08,\n",
       "        6.4661281e-06, 4.4630582e-07],\n",
       "       [4.7279441e-06, 3.3468289e-06, 1.4659629e-05, ..., 1.2261165e-07,\n",
       "        1.1030751e-05, 1.5011559e-06]], dtype=float32)"
      ]
     },
     "execution_count": 16,
     "metadata": {},
     "output_type": "execute_result"
    }
   ],
   "source": [
    "model.predict(X_test)"
   ]
  },
  {
   "cell_type": "code",
   "execution_count": null,
   "metadata": {
    "colab": {
     "base_uri": "https://localhost:8080/"
    },
    "id": "jFiAWG9n1dvV",
    "outputId": "8f8e9e2a-1b92-4bb8-9a38-b6ccc14a284e"
   },
   "outputs": [
    {
     "name": "stdout",
     "output_type": "stream",
     "text": [
      "313/313 [==============================] - 1s 2ms/step\n"
     ]
    }
   ],
   "source": [
    "pred_probs2 = model.predict(X_test)\n",
    "pred = np.argmax(pred_probs2, axis=1)"
   ]
  },
  {
   "cell_type": "code",
   "execution_count": null,
   "metadata": {
    "colab": {
     "base_uri": "https://localhost:8080/"
    },
    "id": "q9DaUkaE0JO0",
    "outputId": "af2e32db-e27c-4f4d-d43d-223cbc009044"
   },
   "outputs": [
    {
     "data": {
      "text/plain": [
       "array([7, 2, 1, ..., 4, 5, 6])"
      ]
     },
     "execution_count": 18,
     "metadata": {},
     "output_type": "execute_result"
    }
   ],
   "source": [
    "pred"
   ]
  },
  {
   "cell_type": "code",
   "execution_count": null,
   "metadata": {
    "colab": {
     "base_uri": "https://localhost:8080/"
    },
    "id": "H0XuEgB_1su3",
    "outputId": "33c06a42-6775-4534-f220-5920849d650e"
   },
   "outputs": [
    {
     "name": "stdout",
     "output_type": "stream",
     "text": [
      "1/1 [==============================] - 0s 194ms/step\n"
     ]
    },
    {
     "data": {
      "text/plain": [
       "array([[1.9986854e-01, 5.3302804e-04, 6.2807341e-04, 4.1419157e-04,\n",
       "        3.0202964e-02, 7.8012858e-04, 1.1334107e-03, 4.2225185e-04,\n",
       "        7.6531577e-01, 7.0157356e-04]], dtype=float32)"
      ]
     },
     "execution_count": 19,
     "metadata": {},
     "output_type": "execute_result"
    }
   ],
   "source": [
    "fa = np.array([[0]*28]*28)\n",
    "\n",
    "fa = fa.reshape(-1,28,28,1)\n",
    "fa = np.array(fa)\n",
    "fa = np.pad(fa, ((0,0),(2,2),(2,2),(0,0)), 'constant')\n",
    "# X_test = (X_test - mean_px)/(std_px)\n",
    "\n",
    "def tf(arr):\n",
    "    return model.predict([arr])\n",
    "  \n",
    "    pass\n",
    "\n",
    "tf(fa)"
   ]
  },
  {
   "cell_type": "code",
   "execution_count": null,
   "metadata": {
    "colab": {
     "base_uri": "https://localhost:8080/"
    },
    "id": "xpI9xrZD1sya",
    "outputId": "92fb6e4c-a269-4972-e11c-4c62f31848c2"
   },
   "outputs": [
    {
     "name": "stdout",
     "output_type": "stream",
     "text": [
      "1/1 [==============================] - 0s 16ms/step\n"
     ]
    },
    {
     "data": {
      "text/plain": [
       "array([8])"
      ]
     },
     "execution_count": 20,
     "metadata": {},
     "output_type": "execute_result"
    }
   ],
   "source": [
    "np.argmax(tf(fa), axis=1)"
   ]
  },
  {
   "cell_type": "markdown",
   "metadata": {
    "id": "q70pwiEd1s1K"
   },
   "source": [
    "<b>Deploying the Model to Anvil:</b>"
   ]
  },
  {
   "cell_type": "code",
   "execution_count": null,
   "metadata": {
    "colab": {
     "base_uri": "https://localhost:8080/",
     "height": 451
    },
    "id": "KfJT-ha5k3ag",
    "outputId": "e5de9465-8e71-4825-aba9-c7e5560b90bc"
   },
   "outputs": [
    {
     "name": "stdout",
     "output_type": "stream",
     "text": [
      "Looking in indexes: https://pypi.org/simple, https://us-python.pkg.dev/colab-wheels/public/simple/\n",
      "Collecting anvil-uplink\n",
      "  Downloading anvil_uplink-0.4.2-py2.py3-none-any.whl (90 kB)\n",
      "\u001b[2K     \u001b[90m━━━━━━━━━━━━━━━━━━━━━━━━━━━━━━━━━━━━━━━━\u001b[0m \u001b[32m90.1/90.1 KB\u001b[0m \u001b[31m3.7 MB/s\u001b[0m eta \u001b[36m0:00:00\u001b[0m\n",
      "\u001b[?25hCollecting argparse\n",
      "  Downloading argparse-1.4.0-py2.py3-none-any.whl (23 kB)\n",
      "Requirement already satisfied: future in /usr/local/lib/python3.8/dist-packages (from anvil-uplink) (0.16.0)\n",
      "Collecting ws4py\n",
      "  Downloading ws4py-0.5.1.tar.gz (51 kB)\n",
      "\u001b[2K     \u001b[90m━━━━━━━━━━━━━━━━━━━━━━━━━━━━━━━━━━━━━━━━\u001b[0m \u001b[32m51.4/51.4 KB\u001b[0m \u001b[31m7.4 MB/s\u001b[0m eta \u001b[36m0:00:00\u001b[0m\n",
      "\u001b[?25h  Preparing metadata (setup.py) ... \u001b[?25l\u001b[?25hdone\n",
      "Requirement already satisfied: six in /usr/local/lib/python3.8/dist-packages (from anvil-uplink) (1.15.0)\n",
      "Building wheels for collected packages: ws4py\n",
      "  Building wheel for ws4py (setup.py) ... \u001b[?25l\u001b[?25hdone\n",
      "  Created wheel for ws4py: filename=ws4py-0.5.1-py3-none-any.whl size=45229 sha256=a902de8bcc79be534422628610ce63920adb1e5f3a1c9886335004196473c10b\n",
      "  Stored in directory: /root/.cache/pip/wheels/ea/f9/a1/34e2943cce3cf7daca304bfc35e91280694ced9194a487ce2f\n",
      "Successfully built ws4py\n",
      "Installing collected packages: ws4py, argparse, anvil-uplink\n",
      "Successfully installed anvil-uplink-0.4.2 argparse-1.4.0 ws4py-0.5.1\n"
     ]
    },
    {
     "data": {
      "application/vnd.colab-display-data+json": {
       "pip_warning": {
        "packages": [
         "argparse",
         "google"
        ]
       }
      }
     },
     "metadata": {},
     "output_type": "display_data"
    }
   ],
   "source": [
    "pip install anvil-uplink"
   ]
  },
  {
   "cell_type": "code",
   "execution_count": null,
   "metadata": {
    "colab": {
     "base_uri": "https://localhost:8080/"
    },
    "id": "aEvs5jf9k3c4",
    "outputId": "243ce3db-c7c3-4e31-aaca-4522f7b46485"
   },
   "outputs": [
    {
     "name": "stdout",
     "output_type": "stream",
     "text": [
      "Connecting to wss://anvil.works/uplink\n",
      "Anvil websocket open\n",
      "Connected to \"Development\" as SERVER\n"
     ]
    }
   ],
   "source": [
    "import anvil.server\n",
    "anvil.server.connect(\"server_2ZFMOGCN4XGVNPHZJEAZKEQU-27FWMJWBQ7YMXCNP\")"
   ]
  },
  {
   "cell_type": "code",
   "execution_count": null,
   "metadata": {
    "id": "2hJ2EkZpk3fm"
   },
   "outputs": [],
   "source": [
    "@anvil.server.callable\n",
    "def test_func(fetch_array):\n",
    "  \n",
    "  #fetch_array = fetch_array.to_numpy()\n",
    "  #fetch_array = tf.reshape(fetch_array,(1,28,28,1))\n",
    "  fetch_array = np.array(fetch_array).reshape(-1,28,28,1)\n",
    "  #fetch_array = np.array(fetch_array)\n",
    "  fetch_array = np.pad(fetch_array, ((0,0),(2,2),(2,2),(0,0)), 'constant')\n",
    "\n",
    "  # return_value = np.argmax(LeNet5Model.predict(np.expand_dims(np.expand_dims(fetch_array, axis=0), axis=3)), axis=1)[0]\n",
    "  return_val = np.argmax(model.predict(fetch_array), axis = 1)\n",
    "  return return_val"
   ]
  },
  {
   "cell_type": "code",
   "execution_count": null,
   "metadata": {
    "colab": {
     "base_uri": "https://localhost:8080/"
    },
    "id": "WMMtw48I9qTj",
    "outputId": "07d4f005-875c-45a5-dc55-482c1577a3b7"
   },
   "outputs": [
    {
     "name": "stdout",
     "output_type": "stream",
     "text": [
      "1/1 [==============================] - 0s 221ms/step\n",
      "1/1 [==============================] - 0s 125ms/step\n"
     ]
    }
   ],
   "source": [
    "anvil.server.wait_forever()"
   ]
  },
  {
   "cell_type": "markdown",
   "metadata": {
    "id": "EDKa5KhS_k98"
   },
   "source": [
    "<b>The End.</b>"
   ]
  }
 ],
 "metadata": {
  "accelerator": "GPU",
  "colab": {
   "provenance": []
  },
  "gpuClass": "standard",
  "kernelspec": {
   "display_name": "Python 3 (ipykernel)",
   "language": "python",
   "name": "python3"
  },
  "language_info": {
   "codemirror_mode": {
    "name": "ipython",
    "version": 3
   },
   "file_extension": ".py",
   "mimetype": "text/x-python",
   "name": "python",
   "nbconvert_exporter": "python",
   "pygments_lexer": "ipython3",
   "version": "3.8.2"
  }
 },
 "nbformat": 4,
 "nbformat_minor": 1
}
